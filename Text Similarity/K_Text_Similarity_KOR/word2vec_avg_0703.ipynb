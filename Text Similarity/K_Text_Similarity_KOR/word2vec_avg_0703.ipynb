{
 "cells": [
  {
   "cell_type": "code",
   "execution_count": 1,
   "metadata": {},
   "outputs": [
    {
     "name": "stderr",
     "output_type": "stream",
     "text": [
      "c:\\users\\bicsu\\anaconda3\\envs\\ken\\lib\\site-packages\\gensim\\utils.py:1197: UserWarning: detected Windows; aliasing chunkize to chunkize_serial\n",
      "  warnings.warn(\"detected Windows; aliasing chunkize to chunkize_serial\")\n"
     ]
    }
   ],
   "source": [
    "from gensim.test.utils import common_texts\n",
    "from gensim.models.doc2vec import Doc2Vec, TaggedDocument\n",
    "import warnings\n",
    "warnings.filterwarnings('ignore')\n",
    "from leven import jamo_levenshtein\n",
    "import pandas as pd"
   ]
  },
  {
   "cell_type": "code",
   "execution_count": 2,
   "metadata": {},
   "outputs": [],
   "source": [
    "hanam = pd.read_excel('./results/hanma_dataset_0626.xlsx')"
   ]
  },
  {
   "cell_type": "code",
   "execution_count": 3,
   "metadata": {},
   "outputs": [
    {
     "data": {
      "text/html": [
       "<div>\n",
       "<style scoped>\n",
       "    .dataframe tbody tr th:only-of-type {\n",
       "        vertical-align: middle;\n",
       "    }\n",
       "\n",
       "    .dataframe tbody tr th {\n",
       "        vertical-align: top;\n",
       "    }\n",
       "\n",
       "    .dataframe thead th {\n",
       "        text-align: right;\n",
       "    }\n",
       "</style>\n",
       "<table border=\"1\" class=\"dataframe\">\n",
       "  <thead>\n",
       "    <tr style=\"text-align: right;\">\n",
       "      <th></th>\n",
       "      <th>name</th>\n",
       "      <th>size</th>\n",
       "      <th>amount</th>\n",
       "      <th>unit</th>\n",
       "      <th>price</th>\n",
       "      <th>notes</th>\n",
       "    </tr>\n",
       "  </thead>\n",
       "  <tbody>\n",
       "    <tr>\n",
       "      <th>0</th>\n",
       "      <td>...a-1 땅깎기(토사)</td>\n",
       "      <td>신설(도쟈32ton)</td>\n",
       "      <td>1</td>\n",
       "      <td>㎥</td>\n",
       "      <td>720</td>\n",
       "      <td>도로공사</td>\n",
       "    </tr>\n",
       "    <tr>\n",
       "      <th>1</th>\n",
       "      <td>a. 토사깍기</td>\n",
       "      <td>도쟈32TON</td>\n",
       "      <td>1</td>\n",
       "      <td>㎥</td>\n",
       "      <td>720</td>\n",
       "      <td>조달청</td>\n",
       "    </tr>\n",
       "    <tr>\n",
       "      <th>2</th>\n",
       "      <td>흙깎기공</td>\n",
       "      <td>토사,대규모(실적)</td>\n",
       "      <td>1</td>\n",
       "      <td>㎥</td>\n",
       "      <td>720</td>\n",
       "      <td>철도시설공단</td>\n",
       "    </tr>\n",
       "    <tr>\n",
       "      <th>3</th>\n",
       "      <td>(1). 흙깎기공/토사</td>\n",
       "      <td>NaN</td>\n",
       "      <td>1</td>\n",
       "      <td>㎥</td>\n",
       "      <td>720</td>\n",
       "      <td>LH공사</td>\n",
       "    </tr>\n",
       "  </tbody>\n",
       "</table>\n",
       "</div>"
      ],
      "text/plain": [
       "                  name         size amount unit price   notes\n",
       "0       ...a-1 땅깎기(토사)  신설(도쟈32ton)      1    ㎥   720    도로공사\n",
       "1              a. 토사깍기      도쟈32TON      1    ㎥   720     조달청\n",
       "2                 흙깎기공  토사,대규모(실적)       1    ㎥   720  철도시설공단\n",
       "3         (1). 흙깎기공/토사          NaN      1    ㎥   720    LH공사"
      ]
     },
     "execution_count": 3,
     "metadata": {},
     "output_type": "execute_result"
    }
   ],
   "source": [
    "data = pd.read_excel('../00.참고자료/스마트건설_Rev.01.xlsx', names=['name','size','amount','unit','price','notes'])\n",
    "data = data.iloc[1:]\n",
    "data = data.dropna(subset=['price'], how='any').reset_index(drop=True)\n",
    "data.iloc[26:]\n",
    "data1 = data.iloc[0:4]\n",
    "data2 = data.iloc[5:14]\n",
    "data3 = data.iloc[15:27]\n",
    "data4 = data.iloc[28:38]\n",
    "data4 = data.iloc[39:49]\n",
    "data4 = data.iloc[50:57]\n",
    "\n",
    "data.head(100)\n",
    "\n",
    "data1\n",
    "\n",
    "# import re\n",
    "# def cleanText(data):\n",
    "#     #텍스트에 포함되어 있는 특수 문자 제거\n",
    "#     text= re.sub('[-=+,#/\\?:.a-zA-Z^%$*@\\'\\(\\(\\[\\]\\<\\>\\(\\)\\s]','', data)\n",
    "#     return text"
   ]
  },
  {
   "cell_type": "code",
   "execution_count": 4,
   "metadata": {},
   "outputs": [],
   "source": [
    "import re\n",
    "def cleanText(data):\n",
    "    #텍스트에 포함되어 있는 특수 문자 제거\n",
    "    text= re.sub('[-=+,~a-e#*/\\?:.^$@\\'\\(\\(\\[\\]\\<\\>\\(\\)\\s]','', data)\n",
    "    return text\n",
    "def fullClean(data):\n",
    "    #텍스트에 포함되어 있는 특수 문자 제거\n",
    "    text= re.sub('[-=+,~a-zA-Z0-9#*/\\?:.^$@\\'\\(\\(\\[\\]\\<\\>\\(\\)\\s]','', data)\n",
    "    return text"
   ]
  },
  {
   "cell_type": "code",
   "execution_count": 5,
   "metadata": {},
   "outputs": [],
   "source": [
    "data = data.drop(data.index[4]).reset_index(drop=True)"
   ]
  },
  {
   "cell_type": "code",
   "execution_count": 6,
   "metadata": {},
   "outputs": [],
   "source": [
    "#data.to_excel('../00.참고자료/스마트건설_Rev.01_dataset.xlsx', index=False)"
   ]
  },
  {
   "cell_type": "code",
   "execution_count": 7,
   "metadata": {},
   "outputs": [],
   "source": [
    "kcc_data = pd.read_excel('../01.datas/example_kcc_dataset_v2_0626.xlsx', encoding='cp949')\n",
    "kcc_data = kcc_data.fillna('')"
   ]
  },
  {
   "cell_type": "code",
   "execution_count": 8,
   "metadata": {},
   "outputs": [],
   "source": [
    "kcc_data['size'] = kcc_data['size'].map(lambda x: str(x))"
   ]
  },
  {
   "cell_type": "code",
   "execution_count": 9,
   "metadata": {},
   "outputs": [],
   "source": [
    "kcc_data['total'] = kcc_data['name']+kcc_data['size']+kcc_data['unit']"
   ]
  },
  {
   "cell_type": "code",
   "execution_count": 10,
   "metadata": {},
   "outputs": [],
   "source": [
    "new = pd.concat([kcc_data,hanam,data], sort=False).reset_index(drop=True)"
   ]
  },
  {
   "cell_type": "code",
   "execution_count": 11,
   "metadata": {},
   "outputs": [],
   "source": [
    "new = new.fillna('')"
   ]
  },
  {
   "cell_type": "code",
   "execution_count": 12,
   "metadata": {},
   "outputs": [],
   "source": [
    "new['total'] = new['name']+new['size']+new['unit']"
   ]
  },
  {
   "cell_type": "code",
   "execution_count": 13,
   "metadata": {
    "scrolled": false
   },
   "outputs": [
    {
     "data": {
      "text/html": [
       "<div>\n",
       "<style scoped>\n",
       "    .dataframe tbody tr th:only-of-type {\n",
       "        vertical-align: middle;\n",
       "    }\n",
       "\n",
       "    .dataframe tbody tr th {\n",
       "        vertical-align: top;\n",
       "    }\n",
       "\n",
       "    .dataframe thead th {\n",
       "        text-align: right;\n",
       "    }\n",
       "</style>\n",
       "<table border=\"1\" class=\"dataframe\">\n",
       "  <thead>\n",
       "    <tr style=\"text-align: right;\">\n",
       "      <th></th>\n",
       "      <th>name</th>\n",
       "      <th>size</th>\n",
       "      <th>unit</th>\n",
       "      <th>price</th>\n",
       "      <th>total</th>\n",
       "      <th>amount</th>\n",
       "      <th>notes</th>\n",
       "    </tr>\n",
       "  </thead>\n",
       "  <tbody>\n",
       "    <tr>\n",
       "      <th>0</th>\n",
       "      <td>가설사무실</td>\n",
       "      <td>발주처,감리사무실,현장사무실 ,화장실 등</td>\n",
       "      <td>식</td>\n",
       "      <td>0</td>\n",
       "      <td>가설사무실발주처,감리사무실,현장사무실 ,화장실 등식</td>\n",
       "      <td></td>\n",
       "      <td></td>\n",
       "    </tr>\n",
       "    <tr>\n",
       "      <th>1</th>\n",
       "      <td>가설경비실 (2.4*2.4 기준)</td>\n",
       "      <td></td>\n",
       "      <td>월</td>\n",
       "      <td>0</td>\n",
       "      <td>가설경비실 (2.4*2.4 기준)월</td>\n",
       "      <td></td>\n",
       "      <td></td>\n",
       "    </tr>\n",
       "    <tr>\n",
       "      <th>2</th>\n",
       "      <td>이동식화장실(FRP)</td>\n",
       "      <td></td>\n",
       "      <td>EA</td>\n",
       "      <td>0</td>\n",
       "      <td>이동식화장실(FRP)EA</td>\n",
       "      <td></td>\n",
       "      <td></td>\n",
       "    </tr>\n",
       "    <tr>\n",
       "      <th>3</th>\n",
       "      <td>EGI펜스</td>\n",
       "      <td></td>\n",
       "      <td>M2</td>\n",
       "      <td>0</td>\n",
       "      <td>EGI펜스M2</td>\n",
       "      <td></td>\n",
       "      <td></td>\n",
       "    </tr>\n",
       "    <tr>\n",
       "      <th>4</th>\n",
       "      <td>스틸방음벽(자주식)</td>\n",
       "      <td></td>\n",
       "      <td>M2</td>\n",
       "      <td>0</td>\n",
       "      <td>스틸방음벽(자주식)M2</td>\n",
       "      <td></td>\n",
       "      <td></td>\n",
       "    </tr>\n",
       "    <tr>\n",
       "      <th>5</th>\n",
       "      <td>스틸방음벽(자립식)</td>\n",
       "      <td></td>\n",
       "      <td>M2</td>\n",
       "      <td>0</td>\n",
       "      <td>스틸방음벽(자립식)M2</td>\n",
       "      <td></td>\n",
       "      <td></td>\n",
       "    </tr>\n",
       "    <tr>\n",
       "      <th>6</th>\n",
       "      <td>투명방음벽(자주식)</td>\n",
       "      <td></td>\n",
       "      <td>M2</td>\n",
       "      <td>0</td>\n",
       "      <td>투명방음벽(자주식)M2</td>\n",
       "      <td></td>\n",
       "      <td></td>\n",
       "    </tr>\n",
       "    <tr>\n",
       "      <th>7</th>\n",
       "      <td>투명방음벽(자립식)</td>\n",
       "      <td></td>\n",
       "      <td>M2</td>\n",
       "      <td>0</td>\n",
       "      <td>투명방음벽(자립식)M2</td>\n",
       "      <td></td>\n",
       "      <td></td>\n",
       "    </tr>\n",
       "    <tr>\n",
       "      <th>8</th>\n",
       "      <td>PVC방음벽(자주식)</td>\n",
       "      <td></td>\n",
       "      <td>M2</td>\n",
       "      <td>0</td>\n",
       "      <td>PVC방음벽(자주식)M2</td>\n",
       "      <td></td>\n",
       "      <td></td>\n",
       "    </tr>\n",
       "    <tr>\n",
       "      <th>9</th>\n",
       "      <td>PVC방음벽(자립식)</td>\n",
       "      <td></td>\n",
       "      <td>M2</td>\n",
       "      <td>0</td>\n",
       "      <td>PVC방음벽(자립식)M2</td>\n",
       "      <td></td>\n",
       "      <td></td>\n",
       "    </tr>\n",
       "    <tr>\n",
       "      <th>10</th>\n",
       "      <td>홀딩도어 설치/해체</td>\n",
       "      <td>12*6</td>\n",
       "      <td>개소</td>\n",
       "      <td>0</td>\n",
       "      <td>홀딩도어 설치/해체12*6개소</td>\n",
       "      <td></td>\n",
       "      <td></td>\n",
       "    </tr>\n",
       "    <tr>\n",
       "      <th>11</th>\n",
       "      <td>출입문</td>\n",
       "      <td>2.4M * 0.6M</td>\n",
       "      <td>개소</td>\n",
       "      <td>0</td>\n",
       "      <td>출입문2.4M * 0.6M개소</td>\n",
       "      <td></td>\n",
       "      <td></td>\n",
       "    </tr>\n",
       "    <tr>\n",
       "      <th>12</th>\n",
       "      <td>현장입간판</td>\n",
       "      <td></td>\n",
       "      <td>식</td>\n",
       "      <td>0</td>\n",
       "      <td>현장입간판식</td>\n",
       "      <td></td>\n",
       "      <td></td>\n",
       "    </tr>\n",
       "    <tr>\n",
       "      <th>13</th>\n",
       "      <td>인입공사</td>\n",
       "      <td></td>\n",
       "      <td>식</td>\n",
       "      <td>0</td>\n",
       "      <td>인입공사식</td>\n",
       "      <td></td>\n",
       "      <td></td>\n",
       "    </tr>\n",
       "    <tr>\n",
       "      <th>14</th>\n",
       "      <td>옥외외부공사</td>\n",
       "      <td></td>\n",
       "      <td>식</td>\n",
       "      <td>0</td>\n",
       "      <td>옥외외부공사식</td>\n",
       "      <td></td>\n",
       "      <td></td>\n",
       "    </tr>\n",
       "    <tr>\n",
       "      <th>15</th>\n",
       "      <td>구내설비공사</td>\n",
       "      <td></td>\n",
       "      <td>식</td>\n",
       "      <td>0</td>\n",
       "      <td>구내설비공사식</td>\n",
       "      <td></td>\n",
       "      <td></td>\n",
       "    </tr>\n",
       "    <tr>\n",
       "      <th>16</th>\n",
       "      <td>한전인입공사비</td>\n",
       "      <td></td>\n",
       "      <td>식</td>\n",
       "      <td>0</td>\n",
       "      <td>한전인입공사비식</td>\n",
       "      <td></td>\n",
       "      <td></td>\n",
       "    </tr>\n",
       "    <tr>\n",
       "      <th>17</th>\n",
       "      <td>임시전력보증보험증권수수료</td>\n",
       "      <td></td>\n",
       "      <td>식</td>\n",
       "      <td>0</td>\n",
       "      <td>임시전력보증보험증권수수료식</td>\n",
       "      <td></td>\n",
       "      <td></td>\n",
       "    </tr>\n",
       "    <tr>\n",
       "      <th>18</th>\n",
       "      <td>임시동력공사</td>\n",
       "      <td>200KW</td>\n",
       "      <td>식</td>\n",
       "      <td>0</td>\n",
       "      <td>임시동력공사200KW식</td>\n",
       "      <td></td>\n",
       "      <td></td>\n",
       "    </tr>\n",
       "    <tr>\n",
       "      <th>19</th>\n",
       "      <td>전기안전관리대행</td>\n",
       "      <td></td>\n",
       "      <td>개월</td>\n",
       "      <td>0</td>\n",
       "      <td>전기안전관리대행개월</td>\n",
       "      <td></td>\n",
       "      <td></td>\n",
       "    </tr>\n",
       "  </tbody>\n",
       "</table>\n",
       "</div>"
      ],
      "text/plain": [
       "                  name                    size unit price  \\\n",
       "0                가설사무실  발주처,감리사무실,현장사무실 ,화장실 등    식     0   \n",
       "1   가설경비실 (2.4*2.4 기준)                            월     0   \n",
       "2          이동식화장실(FRP)                           EA     0   \n",
       "3                EGI펜스                           M2     0   \n",
       "4           스틸방음벽(자주식)                           M2     0   \n",
       "5           스틸방음벽(자립식)                           M2     0   \n",
       "6           투명방음벽(자주식)                           M2     0   \n",
       "7           투명방음벽(자립식)                           M2     0   \n",
       "8          PVC방음벽(자주식)                           M2     0   \n",
       "9          PVC방음벽(자립식)                           M2     0   \n",
       "10          홀딩도어 설치/해체                    12*6   개소     0   \n",
       "11                 출입문             2.4M * 0.6M   개소     0   \n",
       "12               현장입간판                            식     0   \n",
       "13                인입공사                            식     0   \n",
       "14              옥외외부공사                            식     0   \n",
       "15              구내설비공사                            식     0   \n",
       "16             한전인입공사비                            식     0   \n",
       "17       임시전력보증보험증권수수료                            식     0   \n",
       "18              임시동력공사                   200KW    식     0   \n",
       "19            전기안전관리대행                           개월     0   \n",
       "\n",
       "                           total amount notes  \n",
       "0   가설사무실발주처,감리사무실,현장사무실 ,화장실 등식               \n",
       "1            가설경비실 (2.4*2.4 기준)월               \n",
       "2                  이동식화장실(FRP)EA               \n",
       "3                        EGI펜스M2               \n",
       "4                   스틸방음벽(자주식)M2               \n",
       "5                   스틸방음벽(자립식)M2               \n",
       "6                   투명방음벽(자주식)M2               \n",
       "7                   투명방음벽(자립식)M2               \n",
       "8                  PVC방음벽(자주식)M2               \n",
       "9                  PVC방음벽(자립식)M2               \n",
       "10              홀딩도어 설치/해체12*6개소               \n",
       "11              출입문2.4M * 0.6M개소               \n",
       "12                        현장입간판식               \n",
       "13                         인입공사식               \n",
       "14                       옥외외부공사식               \n",
       "15                       구내설비공사식               \n",
       "16                      한전인입공사비식               \n",
       "17                임시전력보증보험증권수수료식               \n",
       "18                  임시동력공사200KW식               \n",
       "19                    전기안전관리대행개월               "
      ]
     },
     "execution_count": 13,
     "metadata": {},
     "output_type": "execute_result"
    }
   ],
   "source": [
    "new.head(20)"
   ]
  },
  {
   "cell_type": "code",
   "execution_count": 14,
   "metadata": {},
   "outputs": [],
   "source": [
    "i = new[(new.name == '공 종')].index"
   ]
  },
  {
   "cell_type": "code",
   "execution_count": 15,
   "metadata": {},
   "outputs": [],
   "source": [
    "new = new.drop(i)"
   ]
  },
  {
   "cell_type": "code",
   "execution_count": 16,
   "metadata": {},
   "outputs": [],
   "source": [
    "from konlpy.tag import Okt  \n",
    "okt=Okt()  \n",
    "token_result = []\n",
    "full_re_result = []\n",
    "for i in new['total']:\n",
    "    token_result.append(okt.morphs(cleanText(i)))\n",
    "for i in new['total']:\n",
    "    full_re_result.append(okt.morphs(fullClean(i)))"
   ]
  },
  {
   "cell_type": "code",
   "execution_count": 17,
   "metadata": {},
   "outputs": [
    {
     "data": {
      "text/plain": [
       "[['가설', '사무실', '발주', '처', '감리', '사무실', '현장', '사무실', '화장실', '등식'],\n",
       " ['가설', '경비실', '2424', '기준', '월'],\n",
       " ['이동식', '화장실', 'FRPEA'],\n",
       " ['EGI', '펜스', 'M', '2'],\n",
       " ['스틸', '방음벽', '자', '주식', 'M', '2'],\n",
       " ['스틸', '방음벽', '자립', '식', 'M', '2'],\n",
       " ['투명', '방음벽', '자', '주식', 'M', '2'],\n",
       " ['투명', '방음벽', '자립', '식', 'M', '2'],\n",
       " ['PVC', '방음벽', '자', '주식', 'M', '2'],\n",
       " ['PVC', '방음벽', '자립', '식', 'M', '2']]"
      ]
     },
     "execution_count": 17,
     "metadata": {},
     "output_type": "execute_result"
    }
   ],
   "source": [
    "token_result[:10]"
   ]
  },
  {
   "cell_type": "markdown",
   "metadata": {},
   "source": [
    "# 갑자기 word2vec & word vector들 평균 ㄱㄱ"
   ]
  },
  {
   "cell_type": "code",
   "execution_count": 18,
   "metadata": {},
   "outputs": [],
   "source": [
    "from numpy import dot\n",
    "from numpy.linalg import norm\n",
    "import numpy as np\n",
    "def cos_sim(A, B):\n",
    "       return dot(A, B)/(norm(A)*norm(B))"
   ]
  },
  {
   "cell_type": "code",
   "execution_count": 45,
   "metadata": {},
   "outputs": [
    {
     "name": "stdout",
     "output_type": "stream",
     "text": [
      "Wall time: 0 ns\n"
     ]
    }
   ],
   "source": [
    "%time\n",
    "from gensim.models import Word2Vec\n",
    "\n",
    "embedding_model = Word2Vec(token_result, size=100, window =2, min_count=1, workers=-1, iter=500, sg=1,seed=42)"
   ]
  },
  {
   "cell_type": "code",
   "execution_count": 46,
   "metadata": {},
   "outputs": [
    {
     "data": {
      "text/plain": [
       "[('ACW858825x5160303537EA', 0.3257361352443695),\n",
       " ('명비', 0.3127039670944214),\n",
       " ('주택', 0.30389732122421265),\n",
       " ('출', 0.29133379459381104),\n",
       " ('2524150', 0.29105159640312195),\n",
       " ('장용', 0.28719568252563477),\n",
       " ('그라우팅', 0.27763810753822327),\n",
       " ('엠보', 0.26015934348106384),\n",
       " ('및', 0.2587887644767761),\n",
       " ('채널', 0.25005632638931274)]"
      ]
     },
     "execution_count": 46,
     "metadata": {},
     "output_type": "execute_result"
    }
   ],
   "source": [
    "embedding_model.most_similar(positive=['가설','사무실'])"
   ]
  },
  {
   "cell_type": "code",
   "execution_count": 47,
   "metadata": {},
   "outputs": [
    {
     "data": {
      "text/plain": [
       "['f2D5080MM개소']"
      ]
     },
     "execution_count": 47,
     "metadata": {},
     "output_type": "execute_result"
    }
   ],
   "source": [
    "token_result[-4]"
   ]
  },
  {
   "cell_type": "code",
   "execution_count": 48,
   "metadata": {},
   "outputs": [
    {
     "data": {
      "text/plain": [
       "['n어스앵커공']"
      ]
     },
     "execution_count": 48,
     "metadata": {},
     "output_type": "execute_result"
    }
   ],
   "source": [
    "token_result[-2]"
   ]
  },
  {
   "cell_type": "code",
   "execution_count": 49,
   "metadata": {},
   "outputs": [
    {
     "data": {
      "text/plain": [
       "['1천공토사M']"
      ]
     },
     "execution_count": 49,
     "metadata": {},
     "output_type": "execute_result"
    }
   ],
   "source": [
    "token_result[-3]"
   ]
  },
  {
   "cell_type": "code",
   "execution_count": 50,
   "metadata": {},
   "outputs": [],
   "source": [
    "import numpy as np"
   ]
  },
  {
   "cell_type": "code",
   "execution_count": 51,
   "metadata": {},
   "outputs": [
    {
     "name": "stdout",
     "output_type": "stream",
     "text": [
      "['f2D5080MM개소']\n"
     ]
    }
   ],
   "source": [
    "temp = np.zeros((100,), dtype = 'float32')\n",
    "aver_cnt = 0\n",
    "target = token_result[-4]\n",
    "print(target)\n",
    "for i in target:\n",
    "    temp += embedding_model[i]\n",
    "    aver_cnt += 1\n",
    "    avg_vec = temp / aver_cnt"
   ]
  },
  {
   "cell_type": "markdown",
   "metadata": {},
   "source": [
    "## 내역 벡터를 평균이 아닌 벡터들의 합으로 계산"
   ]
  },
  {
   "cell_type": "code",
   "execution_count": 57,
   "metadata": {},
   "outputs": [
    {
     "name": "stdout",
     "output_type": "stream",
     "text": [
      "['흙', '깎기']\n"
     ]
    }
   ],
   "source": [
    "temp2 = np.zeros((100,), dtype = 'float32')\n",
    "aver_cnt2 = 0\n",
    "target_idx = 1259\n",
    "target2 = token_result[target_idx]\n",
    "target2 = ['흙','깎기'] # 내 맘대로 넣은것\n",
    "print(target2)\n",
    "for i in target2:\n",
    "    temp2 += embedding_model[i]\n"
   ]
  },
  {
   "cell_type": "code",
   "execution_count": 58,
   "metadata": {},
   "outputs": [],
   "source": [
    "best_vect = []\n",
    "init_sim = 0\n",
    "dap = []\n",
    "dap2 = []\n",
    "what = []\n",
    "test = 0\n",
    "for i in token_result:\n",
    "    if target_idx==token_result.index(i):\n",
    "        continue\n",
    "    temp = np.zeros((100,), dtype = 'float32')\n",
    "    aver_cnt = 0\n",
    "    \n",
    "    test += 1\n",
    "    for j in i:\n",
    "        temp += embedding_model[j] #vector 찾기\n",
    "#         aver_cnt += 1\n",
    "#     avg_vec = temp / aver_cnt\n",
    "    sim = cos_sim(temp, temp2)\n",
    "    \n",
    "    dap.append([sim, i, token_result.index(i), test])\n",
    "        \n"
   ]
  },
  {
   "cell_type": "code",
   "execution_count": 59,
   "metadata": {},
   "outputs": [],
   "source": [
    "sorted_dap = sorted(dap, key=lambda x: x[0], reverse=True)[:5]"
   ]
  },
  {
   "cell_type": "code",
   "execution_count": 60,
   "metadata": {
    "scrolled": true
   },
   "outputs": [
    {
     "data": {
      "text/plain": [
       "[[0.6686973, ['1', '흙', '깎기', '공', '토사', '㎥'], 1222, 1223],\n",
       " [0.6092572, ['흙', '깎기', '공', '토사', '대규모', '실적', '㎥'], 1221, 1222],\n",
       " [0.36518982, ['강판용접Rollshp20m미만mt30ton미만TON'], 1581, 1581],\n",
       " [0.33699396,\n",
       "  ['24',\n",
       "   'T',\n",
       "   '솔',\n",
       "   '라',\n",
       "   '론',\n",
       "   '로이',\n",
       "   '복층',\n",
       "   '유리',\n",
       "   '일면',\n",
       "   '반',\n",
       "   '강화',\n",
       "   '6',\n",
       "   'SRP',\n",
       "   '701',\n",
       "   'HS',\n",
       "   '12',\n",
       "   'Ar',\n",
       "   '6',\n",
       "   'CLM',\n",
       "   '2'],\n",
       "  545,\n",
       "  546],\n",
       " [0.31141272,\n",
       "  ['테라코타',\n",
       "   '판넬',\n",
       "   '시',\n",
       "   '공관',\n",
       "   '급',\n",
       "   '18',\n",
       "   'T',\n",
       "   '판넬',\n",
       "   '구조',\n",
       "   '틀',\n",
       "   '설치',\n",
       "   '포함',\n",
       "   'M',\n",
       "   '2'],\n",
       "  1036,\n",
       "  1037]]"
      ]
     },
     "execution_count": 60,
     "metadata": {},
     "output_type": "execute_result"
    }
   ],
   "source": [
    "sorted_dap"
   ]
  },
  {
   "cell_type": "code",
   "execution_count": 164,
   "metadata": {},
   "outputs": [
    {
     "name": "stdout",
     "output_type": "stream",
     "text": [
      "['푸기', '물', '식']\n"
     ]
    }
   ],
   "source": [
    "print(target2)"
   ]
  },
  {
   "cell_type": "code",
   "execution_count": null,
   "metadata": {},
   "outputs": [],
   "source": [
    "new['total'][1237],new['total'][what]"
   ]
  },
  {
   "cell_type": "code",
   "execution_count": null,
   "metadata": {},
   "outputs": [],
   "source": [
    "new.to_excel('./dataset_0701_v2_fulldatadf.xlsx', index=False)"
   ]
  },
  {
   "cell_type": "code",
   "execution_count": null,
   "metadata": {
    "scrolled": true
   },
   "outputs": [],
   "source": [
    "token_result[1200:]"
   ]
  },
  {
   "cell_type": "code",
   "execution_count": null,
   "metadata": {
    "scrolled": true
   },
   "outputs": [],
   "source": [
    "new['total'][1210:]"
   ]
  },
  {
   "cell_type": "code",
   "execution_count": null,
   "metadata": {},
   "outputs": [],
   "source": [
    "data4"
   ]
  },
  {
   "cell_type": "code",
   "execution_count": null,
   "metadata": {},
   "outputs": [],
   "source": [
    "data.tail(10)"
   ]
  },
  {
   "cell_type": "code",
   "execution_count": null,
   "metadata": {},
   "outputs": [],
   "source": [
    "raw = pd.read_excel('../00.참고자료/스마트건설_Rev.01.xlsx', names=['name','size','amount','unit','price','notes'])"
   ]
  },
  {
   "cell_type": "code",
   "execution_count": null,
   "metadata": {},
   "outputs": [],
   "source": [
    "raw1 = raw.iloc[104:108]"
   ]
  },
  {
   "cell_type": "code",
   "execution_count": null,
   "metadata": {},
   "outputs": [],
   "source": [
    "del raw1['notes']"
   ]
  },
  {
   "cell_type": "code",
   "execution_count": null,
   "metadata": {},
   "outputs": [],
   "source": [
    "del raw1['amount']\n",
    "del raw1['price']"
   ]
  },
  {
   "cell_type": "code",
   "execution_count": null,
   "metadata": {},
   "outputs": [],
   "source": [
    "raw1 = raw1.fillna('')"
   ]
  },
  {
   "cell_type": "code",
   "execution_count": null,
   "metadata": {},
   "outputs": [],
   "source": [
    "raw1['total'] = raw1['name'] + raw1['size'] + raw1['unit']"
   ]
  },
  {
   "cell_type": "code",
   "execution_count": null,
   "metadata": {},
   "outputs": [],
   "source": [
    "raw1"
   ]
  },
  {
   "cell_type": "code",
   "execution_count": 132,
   "metadata": {},
   "outputs": [
    {
     "data": {
      "text/plain": [
       "array([-7.9444028e-05,  3.6814737e-03,  3.8234512e-03, -3.3044554e-03,\n",
       "       -1.9324798e-03,  4.4253812e-04,  3.8442779e-03,  2.6666303e-04,\n",
       "        2.5910768e-03,  3.2592264e-03, -6.9985446e-04, -2.0268287e-03,\n",
       "       -3.5611265e-03, -4.5207134e-03, -8.1354176e-04,  2.7450181e-03,\n",
       "       -2.1818567e-03,  2.5328628e-03, -1.3061815e-03, -1.4329697e-03,\n",
       "        2.5871515e-03, -4.9782166e-04, -1.7300436e-03, -1.8315738e-03,\n",
       "        3.1495744e-03, -1.7635251e-03, -1.9049117e-03, -7.9796161e-04,\n",
       "       -3.4806435e-03, -1.6413511e-03, -4.0138126e-03,  3.9616629e-05,\n",
       "       -2.6503659e-03, -1.2361465e-03,  7.9035788e-04,  7.4815704e-05,\n",
       "       -1.7726891e-03, -4.5991782e-03,  4.3866541e-03, -1.3471107e-03,\n",
       "        3.6532558e-03,  3.7125095e-03, -3.7593439e-03,  3.7347684e-03,\n",
       "       -1.9259480e-03, -6.5656879e-04,  4.3093297e-03, -8.3148351e-04,\n",
       "        2.1070014e-03, -3.7927206e-03,  2.0758305e-03, -4.1715740e-03,\n",
       "       -2.0654052e-03,  1.6283999e-03, -1.5820609e-03, -1.3131934e-03,\n",
       "        4.4335695e-03, -1.3126647e-03,  1.5731009e-03, -3.6071623e-03,\n",
       "        2.2025406e-03, -1.1899802e-03, -1.2936665e-03, -2.7759909e-03,\n",
       "       -3.6375539e-03, -1.1682110e-03,  2.1653107e-04, -7.0414139e-04,\n",
       "        2.0014977e-03, -4.8220248e-04,  3.4938720e-03,  1.8629270e-03,\n",
       "       -4.5279320e-03, -2.1019732e-03,  2.1044384e-03,  1.6186114e-03,\n",
       "        1.8980325e-03,  2.3879202e-03,  3.2057017e-03, -2.5216527e-03,\n",
       "        1.6490450e-03,  3.2260194e-03, -4.7353916e-03,  1.2497156e-03,\n",
       "       -4.8786514e-03, -4.7610677e-03, -1.1592431e-03, -2.0210089e-03,\n",
       "        3.5999317e-03, -2.3374096e-03,  7.7754498e-04, -3.9803754e-03,\n",
       "        4.9680555e-03,  7.2233169e-04, -4.7873668e-03, -3.9043138e-03,\n",
       "       -2.3616296e-03,  3.5358253e-03,  3.0148593e-03,  3.1625223e-03],\n",
       "      dtype=float32)"
      ]
     },
     "execution_count": 132,
     "metadata": {},
     "output_type": "execute_result"
    }
   ],
   "source": [
    "embedding_model['땅']"
   ]
  },
  {
   "cell_type": "code",
   "execution_count": 40,
   "metadata": {},
   "outputs": [],
   "source": [
    "from soynlp import DoublespaceLineCorpus\n",
    "from soynlp.word import WordExtractor\n",
    "from soynlp.tokenizer import LTokenizer"
   ]
  },
  {
   "cell_type": "code",
   "execution_count": 43,
   "metadata": {},
   "outputs": [],
   "source": [
    "from konlpy.tag import Hannanum\n",
    "hannanum= Hannanum()\n",
    "han_result = []\n",
    "for i in new['total']:\n",
    "    token_result.append(hannanum.morphs(cleanText(i)))"
   ]
  },
  {
   "cell_type": "code",
   "execution_count": 65,
   "metadata": {},
   "outputs": [
    {
     "data": {
      "text/plain": [
       "'가설사무실발주처,감리사무실,현장사무실 ,화장실 등식'"
      ]
     },
     "execution_count": 65,
     "metadata": {},
     "output_type": "execute_result"
    }
   ],
   "source": [
    "new['total'][0]"
   ]
  },
  {
   "cell_type": "code",
   "execution_count": 66,
   "metadata": {},
   "outputs": [
    {
     "name": "stdout",
     "output_type": "stream",
     "text": [
      "[Noun Extractor] use default predictors\n",
      "[Noun Extractor] num features: pos=1260, neg=1173, common=12\n",
      "[Noun Extractor] counting eojeols\n",
      "[EojeolCounter] n eojeol = 8 from 8 sents. mem=0.680 Gb                    \n",
      "[Noun Extractor] complete eojeol counter -> lr graph\n",
      "[Noun Extractor] has been trained. #eojeols=8, mem=0.680 Gb\n",
      "[Noun Extractor] batch prediction was completed for 0 words\n",
      "[Noun Extractor] checked compounds. discovered 0 compounds\n",
      "[Noun Extractor] postprocessing detaching_features : 0 -> 0\n",
      "[Noun Extractor] postprocessing ignore_features : 0 -> 0\n",
      "[Noun Extractor] postprocessing ignore_NJ : 0 -> 0\n",
      "[Noun Extractor] 0 nouns (0 compounds) with min frequency=1\n",
      "[Noun Extractor] flushing was done. mem=0.680 Gb                    \n",
      "[Noun Extractor] 0.00 % eojeols are covered\n"
     ]
    }
   ],
   "source": [
    "from soynlp.utils import DoublespaceLineCorpus\n",
    "from soynlp.noun import LRNounExtractor_v2\n",
    "aa = '가설사무실발주처'\n",
    "noun_extractor = LRNounExtractor_v2(verbose=True)\n",
    "nouns = noun_extractor.train_extract(aa)"
   ]
  },
  {
   "cell_type": "code",
   "execution_count": 68,
   "metadata": {},
   "outputs": [
    {
     "data": {
      "text/plain": [
       "{}"
      ]
     },
     "execution_count": 68,
     "metadata": {},
     "output_type": "execute_result"
    }
   ],
   "source": [
    "nouns"
   ]
  },
  {
   "cell_type": "code",
   "execution_count": null,
   "metadata": {},
   "outputs": [],
   "source": []
  }
 ],
 "metadata": {
  "kernelspec": {
   "display_name": "Python 3",
   "language": "python",
   "name": "python3"
  },
  "language_info": {
   "codemirror_mode": {
    "name": "ipython",
    "version": 3
   },
   "file_extension": ".py",
   "mimetype": "text/x-python",
   "name": "python",
   "nbconvert_exporter": "python",
   "pygments_lexer": "ipython3",
   "version": "3.6.5"
  }
 },
 "nbformat": 4,
 "nbformat_minor": 2
}
